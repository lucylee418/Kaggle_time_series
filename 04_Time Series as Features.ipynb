{
 "cells": [
  {
   "cell_type": "markdown",
   "metadata": {},
   "source": [
    "## Serial Dependence"
   ]
  },
  {
   "cell_type": "markdown",
   "metadata": {},
   "source": [
    "*:* It can only be modeled as serially dependent properties, using as features past values of the target series. <br>\n",
    "*:* the structure becomes clear when it's plotted against past values."
   ]
  },
  {
   "cell_type": "markdown",
   "metadata": {},
   "source": [
    "### Cycles"
   ]
  },
  {
   "cell_type": "markdown",
   "metadata": {},
   "source": [
    "* not necessarily time dependent\n",
    "* patterns of growth and decay in a time series associated with how the value in a series at one time depends on values at previous times. <br>\n",
    "* Cyclic behavior is characteristic of systems that can affect themselves or whose reactions persist over time. <br>\n",
    "* Economies, epidemics, animal populations, volcano eruptions, and similar natural phenomena often display cyclic behavior.\n",
    "* Lag plots\n",
    "* Autocorrelation : the correlation a time series has with one of its lags\n",
    "* Partial autocorrelation : correlation of a lag accounting for all of the previous lags; the amount of \"new\" correlation the lag contributes\n",
    "* Correlogram : Choose lags which falls outside the intervals of \"no correlation\"\n",
    "* Note : Autocorrelation and partial autocorrelation are measures of linear dependence"
   ]
  },
  {
   "cell_type": "markdown",
   "metadata": {},
   "source": [
    "```python\n",
    "_ = plot_lags(flu_trends.FluVisits, lags=12, nrows=2)   # Lag plots\n",
    "_ = plot_pacf(flu_trends.FluVisits, lags=12)            # Autocorrelation plots\n",
    "```"
   ]
  },
  {
   "cell_type": "markdown",
   "metadata": {},
   "source": [
    "```python\n",
    "# Make lags 1, 2, 3, and 4\n",
    "def make_lags(ts, lags):\n",
    "    return pd.concat(\n",
    "        {\n",
    "            f'y_lag_{i}': ts.shift(i)\n",
    "            for i in range(1, lags + 1)\n",
    "        },\n",
    "        axis=1)\n",
    "\n",
    "\n",
    "X = make_lags(flu_trends.FluVisits, lags=4)\n",
    "X = X.fillna(0.0)\n",
    "```"
   ]
  },
  {
   "cell_type": "markdown",
   "metadata": {},
   "source": [
    "* Leading indicators : time series that could provide an \"early warning\" for changes "
   ]
  },
  {
   "cell_type": "markdown",
   "metadata": {},
   "source": []
  }
 ],
 "metadata": {
  "language_info": {
   "name": "python"
  },
  "orig_nbformat": 4
 },
 "nbformat": 4,
 "nbformat_minor": 2
}
