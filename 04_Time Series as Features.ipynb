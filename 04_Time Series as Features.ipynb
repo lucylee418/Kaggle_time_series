{
 "cells": [
  {
   "cell_type": "markdown",
   "metadata": {},
   "source": [
    "## Serial Dependence"
   ]
  },
  {
   "cell_type": "markdown",
   "metadata": {},
   "source": [
    "*:* It can only be modeled as serially dependent properties, using as features past values of the target series. <br>\n",
    "*:* the structure becomes clear when it's plotted against past values."
   ]
  },
  {
   "cell_type": "markdown",
   "metadata": {},
   "source": [
    "### Cycles"
   ]
  },
  {
   "cell_type": "markdown",
   "metadata": {},
   "source": [
    "* not necessarily time dependent\n",
    "* patterns of growth and decay in a time series associated with how the value in a series at one time depends on values at previous times. <br>\n",
    "* Cyclic behavior is characteristic of systems that can affect themselves or whose reactions persist over time. <br>\n",
    "* Economies, epidemics, animal populations, volcano eruptions, and similar natural phenomena often display cyclic behavior.\n",
    "* Lag plots\n",
    "* Autocorrelation : the correlation a time series has with one of its lags\n",
    "* Partial autocorrelation : correlation of a lag accounting for all of the previous lags; the amount of \"new\" correlation the lag contributes\n",
    "* Correlogram : Choose lags which falls outside the intervals of \"no correlation\"\n",
    "* Note : Autocorrelation and partial autocorrelation are measures of linear dependence"
   ]
  },
  {
   "cell_type": "markdown",
   "metadata": {},
   "source": [
    "```python\n",
    "plot_lags(flu_trends.FluVisits, lags=12, nrows=2)   # Lag plots\n",
    "plot_pacf(flu_trends.FluVisits, lags=12)            # Autocorrelation plots\n",
    "```"
   ]
  },
  {
   "cell_type": "markdown",
   "metadata": {},
   "source": [
    "```python\n",
    "# Make lags 1, 2, 3, and 4\n",
    "def make_lags(ts, lags):\n",
    "    return pd.concat(\n",
    "        {\n",
    "            f'y_lag_{i}': ts.shift(i)\n",
    "            for i in range(1, lags + 1)\n",
    "        },\n",
    "        axis=1)\n",
    "\n",
    "\n",
    "X = make_lags(flu_trends.FluVisits, lags=4)\n",
    "X = X.fillna(0.0)\n",
    "```"
   ]
  },
  {
   "cell_type": "markdown",
   "metadata": {},
   "source": [
    "* Leading indicators : time series that could provide an \"early warning\" for changes \n",
    "* In Flue exampl, flu-related searches tend to become more popular in the weeks prior to office visits."
   ]
  },
  {
   "cell_type": "markdown",
   "metadata": {},
   "source": [
    "```python\n",
    "search_terms = [\"FluContagious\", \"FluCough\", \"FluFever\", \"InfluenzaA\", \"TreatFlu\", \"IHaveTheFlu\", \"OverTheCounterFlu\", \"HowLongFlu\"]\n",
    "\n",
    "# Create three lags for each search term\n",
    "X0 = make_lags(flu_trends[search_terms], lags=3)\n",
    "\n",
    "# Create four lags for the target, as before\n",
    "X1 = make_lags(flu_trends['FluVisits'], lags=4) # lag1, lag2, lag3, lag4\n",
    "\n",
    "# Combine to create the training data\n",
    "X = pd.concat([X0, X1], axis=1).fillna(0.0)\n",
    "```"
   ]
  },
  {
   "cell_type": "markdown",
   "metadata": {},
   "source": [
    "* cf) Make leading indicators\n",
    "```python\n",
    "X_promo = make_leads(onpromotion, leads=1)\n",
    "```"
   ]
  },
  {
   "cell_type": "markdown",
   "metadata": {},
   "source": [
    "## Excerise Notes"
   ]
  },
  {
   "cell_type": "markdown",
   "metadata": {},
   "source": [
    "1) **Deseasonalizing** : Trend and seasonality will both create serial dependence that shows up in correlograms and lag plots. To isolate any purely cyclic behavior, we'll start by *deseasonalizing* the series.\n",
    "2) **moving-average plot** using original data : To confirm our intuition, we can try to isolate cyclic behavior using a *moving-average plot* just like we did with trend. The idea is to choose a window long enough to smooth over short-term seasonality, but short enough to still preserve the cycles."
   ]
  },
  {
   "cell_type": "markdown",
   "metadata": {},
   "source": []
  }
 ],
 "metadata": {
  "language_info": {
   "name": "python"
  },
  "orig_nbformat": 4
 },
 "nbformat": 4,
 "nbformat_minor": 2
}
