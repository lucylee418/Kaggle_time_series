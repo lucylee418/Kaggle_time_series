{
 "cells": [
  {
   "cell_type": "markdown",
   "metadata": {},
   "source": [
    "## Trend Plots"
   ]
  },
  {
   "cell_type": "markdown",
   "metadata": {},
   "source": [
    "```python\n",
    "    trend = dataset.rolling(\n",
    "        window=365,       # 365-day window\n",
    "        center=True,      # puts the average at the center of the window\n",
    "        min_periods=183,  # choose about half the window size\n",
    "    ).mean()              # compute the mean (could also do median, std, min, max, ...)\n",
    "\n",
    "    ax = tunnel.plot(style=\".\", color=\"0.5\")\n",
    "    moving_average.plot(\n",
    "        ax=ax, linewidth=3, title=\"Tunnel Traffic - 365-Day Moving Average(Trend)\", legend=False,\n",
    "    );\n",
    "```"
   ]
  },
  {
   "cell_type": "markdown",
   "metadata": {},
   "source": [
    "## Deterministic Process (from statsmodels)"
   ]
  },
  {
   "cell_type": "markdown",
   "metadata": {},
   "source": [
    "```python\n",
    "    from statsmodels.tsa.deterministic import DeterministicProcess\n",
    "\n",
    "    dp = DeterministicProcess(\n",
    "        index=tunnel.index,  # dates from the training data\n",
    "        constant=True,       # dummy feature for the bias (y_intercept)\n",
    "        order=1,             # 1(linear), 2(quadratic), 3(cubic), etc\n",
    "        drop=True,           # drop terms if necessary to avoid collinearity\n",
    "    )\n",
    "    # `in_sample` creates features for the dates given in the `index` argument\n",
    "    X = dp.in_sample()\n",
    "```"
   ]
  },
  {
   "cell_type": "markdown",
   "metadata": {},
   "source": [
    "```python\n",
    "    # Create features for a 30-day forecast.\n",
    "    X = dp.out_of_sample(steps=30)  \n",
    "\n",
    "    # Predict for the 30-day outside of the observation of training set.\n",
    "    y_fore = pd.Series(model.predict(X), index=X.index)\n",
    "```"
   ]
  }
 ],
 "metadata": {
  "language_info": {
   "name": "python"
  },
  "orig_nbformat": 4
 },
 "nbformat": 4,
 "nbformat_minor": 2
}
