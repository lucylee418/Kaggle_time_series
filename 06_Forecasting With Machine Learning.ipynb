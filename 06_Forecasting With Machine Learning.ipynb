{
 "cells": [
  {
   "cell_type": "markdown",
   "metadata": {},
   "source": [
    "## Introduction\n",
    ": Lag features require that the lagged target value is known at the time being forecast. A lag 1 feature shifts the time series forward 1 step, which means you could forecast 1 step into the future but not 2 steps.\n",
    "\n",
    "So in this lesson, we'll learn how to make forecasts for a variety of situations."
   ]
  },
  {
   "cell_type": "markdown",
   "metadata": {},
   "source": [
    "## Defining the Forecasting Task<br>"
   ]
  },
  {
   "cell_type": "markdown",
   "metadata": {},
   "source": [
    "Before designing a forecasting model, check\n",
    "* what information is available at the time a forecast is made (features), and,\n",
    "* the time period during which you require forecasted values (target).<br>\n",
    "        * **Forecast origin** : The time at which you are making a forecast. Usually, it's the last time for which you have training data for the time being predicted. Everything up to he origin can be used to create features.<br>\n",
    "        * **Forecast horizon** : The time for which you are making a forecast. Usually described by the number of time steps. The forecast horizon describes the target."
   ]
  },
  {
   "cell_type": "markdown",
   "metadata": {},
   "source": [
    "<img src=\"06_defining a forecast.png\" alt=\"title\" width=\"500\"/>"
   ]
  },
  {
   "cell_type": "markdown",
   "metadata": {},
   "source": [
    "## Preparing Data for Forecasting"
   ]
  },
  {
   "cell_type": "markdown",
   "metadata": {},
   "source": [
    "* Transform the series into a dataframe if needed\n",
    "* Created a feature set out of lags. \n",
    "* Preparing the target. (How we do this depends on the forecasting task.)"
   ]
  },
  {
   "cell_type": "markdown",
   "metadata": {},
   "source": [
    "## Multistep Forecasting Strategies¶"
   ]
  },
  {
   "cell_type": "markdown",
   "metadata": {},
   "source": [
    "* **Multioutput model**<br>\n",
    ": Use a model that produces multiple outputs naturally. (e.g. Linear regression, neural networks) Simple and efficient, but not possible for every algorithm you might want to use. (e.g. XGBoost can't do this)<br>\n",
    "* **Direct strategy**<br>\n",
    ": Train a separate model for each step in the horizon: one model forecasts 1-step ahead, another 2-steps ahead, and so on. It can help to have a different model make forecasts for each step, but computationally expensive.<br>\n",
    "* **Recursive strategy**<br>\n",
    ": Train a single one-step model and use its forecasts to update the lag features for the next step. We only need to train one model, but since errors will propagate from step to step, forecasts can be inaccurate for long horizons.<br>\n",
    "* **DirRec strategy**<br>\n",
    ": A combination of the direct and recursive strategies: train a model for each step and use forecasts from previous steps as new lag features. Step by step, each model gets an additional lag input. Since each model always has an up-to-date set of lag features, the DirRec strategy can capture serial dependence better than Direct, but it can also suffer from error propagation like Recursive."
   ]
  },
  {
   "cell_type": "markdown",
   "metadata": {},
   "source": [
    "## Excerise Notes"
   ]
  },
  {
   "cell_type": "markdown",
   "metadata": {},
   "source": [
    "* Examples\n",
    "1) 1-step forecast using 3 lag features with a 1-step lead time<br>\n",
    "<img src=\"06_task1.png\" alt=\"title\" width=\"220\"/><br>\n",
    "\n",
    "2) 3-step forecast using 4 lag features with a 2-step lead time<br>\n",
    "<img src=\"06_task2.png\" alt=\"title\" width=\"380\"/><br>\n",
    "\n",
    "3) 3-step forecast using 4 lag features with a 1-step lead time<br>\n",
    "<img src=\"06_task3.png\" alt=\"title\" width=\"380\"/>"
   ]
  },
  {
   "cell_type": "markdown",
   "metadata": {},
   "source": [
    "* Creat targets (4 days of lag features. Drop any missing values from both targets and features.)<br>\n",
    "    ```python\n",
    "    y = family_sales.loc[:, 'sales']\n",
    "\n",
    "    # Make 4 lag features and drop missing values\n",
    "    X = make_lags(y, lags=4).dropna\n",
    "\n",
    "    # Make multistep target and drop missing values\n",
    "    y = make_multistep_target(y, steps=16).dropna()\n",
    "\n",
    "    y, X = y.align(X, join='inner', axis=0)\n",
    "    ```"
   ]
  },
  {
   "cell_type": "markdown",
   "metadata": {},
   "source": [
    "* Forecast with the DirRec strategy¶\n",
    "    ```python\n",
    "    from sklearn.multioutput import RegressorChain\n",
    "    # Instatiate a model that applies the DirRec strategy to XGBoost.\n",
    "    model = RegressorChain(base_estimator=XGBRegressor())\n",
    "    ```"
   ]
  },
  {
   "cell_type": "markdown",
   "metadata": {},
   "source": []
  }
 ],
 "metadata": {
  "language_info": {
   "name": "python"
  },
  "orig_nbformat": 4
 },
 "nbformat": 4,
 "nbformat_minor": 2
}
