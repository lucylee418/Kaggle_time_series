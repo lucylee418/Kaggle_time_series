{
 "cells": [
  {
   "cell_type": "markdown",
   "metadata": {},
   "source": [
    "## Components and Residuals"
   ]
  },
  {
   "cell_type": "markdown",
   "metadata": {},
   "source": [
    "* series = components + residuals<br>\n",
    "&nbsp;(components: trend, seasons, cycles,   residuals: error)\n",
    "1) first learn the trend and subtract it out from the series,\n",
    "2) then learn the seasonality from the detrended residuals and subtract the seasons out,\n",
    "3) then learn the cycles and subtract the cycles out,\n",
    "4) and finally only the unpredictable error remains.\n",
    "5) Add together all the components we learned and we get the complete model. (linear regression)\n",
    "\n"
   ]
  },
  {
   "cell_type": "markdown",
   "metadata": {},
   "source": [
    "```python\n",
    "# 1. Train and predict with first model\n",
    "model_1.fit(X_train_1, y_train)\n",
    "y_pred_1 = model_1.predict(X_train)\n",
    "\n",
    "# 2. Train and predict with second model on residuals\n",
    "model_2.fit(X_train_2, y_train - y_pred_1)\n",
    "y_pred_2 = model_2.predict(X_train_2)\n",
    "\n",
    "# 3. Add to get overall predictions\n",
    "y_pred = y_pred_1 + y_pred_2\n",
    "```"
   ]
  },
  {
   "cell_type": "markdown",
   "metadata": {},
   "source": [
    "* Feature-transforming algorithms : linear regression, neural nets \n",
    "* Target-transforming algorithms : decision trees, nearest neighbors"
   ]
  },
  {
   "cell_type": "markdown",
   "metadata": {},
   "source": [
    "* This difference is what motivates the hybrid design in this lesson: use linear regression to extrapolate the trend, transform the target to remove the trend, and apply XGBoost to the detrended residuals. To hybridize a neural net (a feature transformer), you could instead include the predictions of another model as a feature, which the neural net would then include as part of its own predictions. The method of fitting to residuals is actually the same method the gradient boosting algorithm uses, so we will call these boosted hybrids; the method of using predictions as features is known as \"stacking\", so we will call these stacked hybrids."
   ]
  },
  {
   "cell_type": "markdown",
   "metadata": {},
   "source": [
    "* To predict multiple series at once with XGBoost, we'll instead convert these series from wide format, with one time series per column, to long format, with series indexed by categories along rows.\n",
    "```python\n",
    "    # The `stack` method converts column labels to row labels, pivoting from wide format to long\n",
    "    X = retail.stack()  # pivot dataset wide to long\n",
    "    display(X.head())\n",
    "    y = X.pop('Sales')  # grab target series\n",
    "```"
   ]
  },
  {
   "cell_type": "markdown",
   "metadata": {},
   "source": [
    "<img src=\"05_before.png\" alt=\"title\" width=\"300\"/> $\\Rightarrow$ <img src=\"05_after.png\" alt=\"title\" width=\"300\"/>"
   ]
  },
  {
   "cell_type": "markdown",
   "metadata": {},
   "source": [
    "* Turn the row labels for 'Industries' into a categorical feature with a label encoding. Also create a feature for annual seasonality by pulling the month numbers out of the time index.\n",
    "```python\n",
    "    # Turn row labels into categorical feature columns with a label encoding\n",
    "    X = X.reset_index('Industries')\n",
    "    # Label encoding for 'Industries' feature\n",
    "    for colname in X.select_dtypes([\"object\", \"category\"]):\n",
    "        X[colname], _ = X[colname].factorize()\n",
    "\n",
    "    # Label encoding for annual seasonality\n",
    "    X[\"Month\"] = X.index.month  # values are 1, 2, ..., 12\n",
    "\n",
    "    # Create splits\n",
    "    X_train, X_test = X.loc[idx_train, :], X.loc[idx_test, :]\n",
    "    y_train, y_test = y.loc[idx_train], y.loc[idx_test]\n",
    "```"
   ]
  },
  {
   "cell_type": "markdown",
   "metadata": {},
   "source": [
    "* convert the trend predictions made earlier to long format and then subtract them from the original series. That will give us detrended (residual) series that XGBoost can learn.\n",
    "```python\n",
    "    # Pivot wide to long (stack) and convert DataFrame to Series (squeeze)\n",
    "    y_fit = y_fit.stack().squeeze()    # trend from training set\n",
    "    y_pred = y_pred.stack().squeeze()  # trend from test set\n",
    "\n",
    "    # Create residuals (the collection of detrended series) from the training set\n",
    "    y_resid = y_train - y_fit\n",
    "\n",
    "    # Train XGBoost on the residuals\n",
    "    xgb = XGBRegressor()\n",
    "    xgb.fit(X_train, y_resid)\n",
    "\n",
    "    # Add the predicted residuals onto the predicted trends\n",
    "    y_fit_boosted = xgb.predict(X_train) + y_fit\n",
    "    y_pred_boosted = xgb.predict(X_test) + y_pred\n",
    "```"
   ]
  },
  {
   "cell_type": "markdown",
   "metadata": {},
   "source": [
    "## Exercise Notes"
   ]
  },
  {
   "cell_type": "markdown",
   "metadata": {},
   "source": [
    "* Create a boosted hybrid\n",
    "    ```python\n",
    "    class BoostedHybrid:\n",
    "        def __init__(self, model_1, model_2):\n",
    "            self.model_1 = model_1\n",
    "            self.model_2 = model_2\n",
    "            self.y_columns = None  # store column names from fit method\n",
    "    ```"
   ]
  },
  {
   "cell_type": "markdown",
   "metadata": {},
   "source": [
    "* Add method to class<br>\n",
    "```python\n",
    "    classname.method = method   \n",
    "    # e.g. BoostedHybrid.predict = predict\n",
    "```"
   ]
  },
  {
   "cell_type": "markdown",
   "metadata": {},
   "source": [
    "* Train boosted hybrid\n",
    "    ```python\n",
    "    # Create LinearRegression + XGBRegressor hybrid with BoostedHybrid\n",
    "    model = BoostedHybrid(\n",
    "        model_1=LinearRegression(),\n",
    "        model_2=XGBRegressor(),\n",
    "    )\n",
    "\n",
    "    # Fit and predict\n",
    "    model.fit(X_1, X_2, y)\n",
    "    y_pred = model.predict(X_1, X_2)\n",
    "\n",
    "    y_pred = y_pred.clip(0.0)\n",
    "    ```"
   ]
  }
 ],
 "metadata": {
  "language_info": {
   "name": "python"
  },
  "orig_nbformat": 4
 },
 "nbformat": 4,
 "nbformat_minor": 2
}
