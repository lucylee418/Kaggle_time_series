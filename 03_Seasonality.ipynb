{
 "cells": [
  {
   "cell_type": "markdown",
   "metadata": {},
   "source": [
    "## Periodogram"
   ]
  },
  {
   "cell_type": "markdown",
   "metadata": {},
   "source": [
    "* How many Fourier pairs we should include.\n",
    "* $\\frac{a^2+b^2}{2}$ (a, b: coefficients of the sine and cosine at that frequency)\n",
    "* periodogram : check seasonality (annual, semiannual, qarterly etc)\n",
    "```python\n",
    "    plot_periodogram(tunnel.NumVehicles);\n",
    "```\n",
    "* detrending or deseasonalizing: Removing from a series its trend or seasons\n",
    "```python\n",
    "    y_deseason = y - y_pred\n",
    "```"
   ]
  },
  {
   "cell_type": "markdown",
   "metadata": {},
   "source": [
    "* Create seasonal features using DeterministicProcess\n",
    "```python\n",
    "    from statsmodels.tsa.deterministic import CalendarFourier, DeterministicProcess\n",
    "\n",
    "    fourier = CalendarFourier(freq=\"A\", order=10)  # 10 sin/cos pairs for \"A\"nnual seasonality\n",
    "\n",
    "    dp = DeterministicProcess(\n",
    "        index=tunnel.index,\n",
    "        constant=True,               # dummy feature for bias (y-intercept)\n",
    "        order=1,                     # trend (order 1 means linear)\n",
    "        seasonal=True,               # weekly seasonality (indicators)\n",
    "        additional_terms=[fourier],  # annual seasonality (fourier)\n",
    "        drop=True,                   # drop terms to avoid collinearity\n",
    "    )\n",
    "\n",
    "    X = dp.in_sample()  # create features for dates in tunnel.index\n",
    "```"
   ]
  },
  {
   "cell_type": "markdown",
   "metadata": {},
   "source": [
    "* Getting binary(0/1) pandas DataFrame for holidays\n",
    "```python\n",
    "    X_holidays = pd.get_dummies(holidays)\n",
    "    X2 = X.join(X_holidays, on='date').fillna(0.0)  # Combine based on 'date'\n",
    "```"
   ]
  },
  {
   "cell_type": "markdown",
   "metadata": {},
   "source": [
    "## Excerise Notes"
   ]
  },
  {
   "cell_type": "markdown",
   "metadata": {},
   "source": [
    "* Sorting data per week/day\n",
    "```python\n",
    "    X[\"week\"] = X.index.week        # generate new column with value 1-52 \n",
    "    X[\"day\"] = X.index.dayofweek    # generate new column with value 0-6\n",
    "```"
   ]
  },
  {
   "cell_type": "markdown",
   "metadata": {},
   "source": []
  }
 ],
 "metadata": {
  "language_info": {
   "name": "python"
  },
  "orig_nbformat": 4
 },
 "nbformat": 4,
 "nbformat_minor": 2
}
