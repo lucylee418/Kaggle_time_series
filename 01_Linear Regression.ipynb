{
 "cells": [
  {
   "cell_type": "markdown",
   "metadata": {},
   "source": [
    "## Linear Regression Algorithm"
   ]
  },
  {
   "cell_type": "markdown",
   "metadata": {},
   "source": [
    "* Model<br>\n",
    "target = weight_1 * feature_1 + weight_2 * feature_2 + bias"
   ]
  },
  {
   "cell_type": "markdown",
   "metadata": {},
   "source": [
    "* Lag feature<br>\n",
    ": Shifted features (we shift the observations of the target series so that they appear to have occured later in time)"
   ]
  },
  {
   "cell_type": "markdown",
   "metadata": {},
   "source": [
    "```python\n",
    "    # Getting lag features\n",
    "    df['Lag_1'] = df['NumVehicles'].shift(n)    # n-th lag features\n",
    "```"
   ]
  },
  {
   "cell_type": "markdown",
   "metadata": {},
   "source": [
    "```python\n",
    "    # Drop missing values\n",
    "    X = df.loc[:, ['Lag_1']]\n",
    "    X.dropna(inplace=True)  # drop missing values in the feature set\n",
    "    y = df.loc[:, 'NumVehicles']  # create the target\n",
    "    y, X = y.align(X, join='inner')  # drop corresponding values in target\n",
    "\n",
    "    # Use scikit-learn for fitting a linear regression model\n",
    "    from sklearn.linear_model import LinearRegression\n",
    "\n",
    "    model = LinearRegression()\n",
    "    model.fit(X, y)\n",
    "\n",
    "    y_pred = pd.Series(model.predict(X), index=X.index)\n",
    "```"
   ]
  },
  {
   "cell_type": "markdown",
   "metadata": {},
   "source": [
    "## Exercise Notes"
   ]
  },
  {
   "cell_type": "markdown",
   "metadata": {},
   "source": [
    "* Using 1D array for features gives you reshape error<br>\n",
    "```python\n",
    "    X1 = df.loc[:,'time'] # 1D! Reshape error!\n",
    "    X2 = df['time']       # 1D! Reshape error!\n",
    "```"
   ]
  },
  {
   "cell_type": "markdown",
   "metadata": {},
   "source": [
    "* To get weight and bias of the model,<br>\n",
    "```python\n",
    "    model.coef_\n",
    "    model.intercept_\n",
    "```"
   ]
  }
 ],
 "metadata": {
  "language_info": {
   "name": "python"
  },
  "orig_nbformat": 4
 },
 "nbformat": 4,
 "nbformat_minor": 2
}
